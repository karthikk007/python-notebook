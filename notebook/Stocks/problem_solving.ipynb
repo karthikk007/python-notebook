{
 "cells": [
  {
   "cell_type": "code",
   "execution_count": 19,
   "metadata": {},
   "outputs": [
    {
     "name": "stdout",
     "output_type": "stream",
     "text": [
      "[100, 99, 98, 97, 96, 95, 94, 93, 92, 91]\n",
      "[81, 82, 83, 84, 85, 86, 87, 88, 89, 90]\n",
      "[80, 79, 78, 77, 76, 75, 74, 73, 72, 71]\n",
      "[61, 62, 63, 64, 65, 66, 67, 68, 69, 70]\n",
      "[60, 59, 58, 57, 56, 55, 54, 53, 52, 51]\n",
      "[41, 42, 43, 44, 45, 46, 47, 48, 49, 50]\n",
      "[40, 39, 38, 37, 36, 35, 34, 33, 32, 31]\n",
      "[21, 22, 23, 24, 25, 26, 27, 28, 29, 30]\n",
      "[20, 19, 18, 17, 16, 15, 14, 13, 12, 11]\n",
      "[1, 2, 3, 4, 5, 6, 7, 8, 9, 10]\n"
     ]
    }
   ],
   "source": [
    "numbers = list(range(1, 101))\n",
    "\n",
    "\n",
    "def slice(numbers):\n",
    "    lists = []\n",
    "\n",
    "    last_sliced_index = 0\n",
    "    slice_index = 0\n",
    "\n",
    "    for idx, val in enumerate(numbers):\n",
    "        slice_index = idx\n",
    "\n",
    "        if slice_index == last_sliced_index:\n",
    "            continue\n",
    "\n",
    "        if slice_index % 10 == 0:\n",
    "\n",
    "            slice = numbers[last_sliced_index:slice_index]\n",
    "            lists.append(slice)\n",
    "\n",
    "            last_sliced_index = idx\n",
    "\n",
    "    lists.append(numbers[last_sliced_index:slice_index + 1])\n",
    "\n",
    "    return lists\n",
    "\n",
    "def print_order(my_list):\n",
    "    my_list.reverse()\n",
    "\n",
    "    for idx, val in enumerate(my_list):\n",
    "        if idx % 2 == 0:\n",
    "            val.reverse()\n",
    "            print(val)\n",
    "        else:\n",
    "            print(val)\n",
    "\n",
    "my_list = slice(numbers)\n",
    "print_order(my_list)\n",
    "\n",
    "# print(my_list)"
   ]
  },
  {
   "cell_type": "code",
   "execution_count": 25,
   "metadata": {},
   "outputs": [
    {
     "data": {
      "text/plain": [
       "14"
      ]
     },
     "execution_count": 25,
     "metadata": {},
     "output_type": "execute_result"
    }
   ],
   "source": [
    "from datetime import datetime, timedelta\n",
    "\n",
    "timestamp = datetime.today()\n",
    "timestamp = timestamp + timedelta(days=int(-14))\n",
    "\n",
    "today = datetime.today()\n",
    "\n",
    "diff = today - timestamp\n",
    "diff.days"
   ]
  }
 ],
 "metadata": {
  "kernelspec": {
   "display_name": "Python 3",
   "language": "python",
   "name": "python3"
  },
  "language_info": {
   "codemirror_mode": {
    "name": "ipython",
    "version": 3
   },
   "file_extension": ".py",
   "mimetype": "text/x-python",
   "name": "python",
   "nbconvert_exporter": "python",
   "pygments_lexer": "ipython3",
   "version": "3.11.2"
  },
  "orig_nbformat": 4
 },
 "nbformat": 4,
 "nbformat_minor": 2
}
