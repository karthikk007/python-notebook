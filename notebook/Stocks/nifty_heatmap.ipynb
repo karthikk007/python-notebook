{
 "cells": [
  {
   "cell_type": "code",
   "execution_count": null,
   "metadata": {},
   "outputs": [],
   "source": [
    "# https://gist.github.com/kapilmar/df2d35ad497ec4fa12d6"
   ]
  },
  {
   "cell_type": "code",
   "execution_count": 1,
   "metadata": {},
   "outputs": [
    {
     "ename": "ValueError",
     "evalue": "invalid literal for int() with base 10: ''",
     "output_type": "error",
     "traceback": [
      "\u001b[0;31m---------------------------------------------------------------------------\u001b[0m",
      "\u001b[0;31mValueError\u001b[0m                                Traceback (most recent call last)",
      "Cell \u001b[0;32mIn [1], line 13\u001b[0m\n\u001b[1;32m     11\u001b[0m symbol_type \u001b[39m=\u001b[39m \u001b[39m0\u001b[39m\n\u001b[1;32m     12\u001b[0m \u001b[39mwhile\u001b[39;00m (symbol_type \u001b[39m>\u001b[39m \u001b[39m2\u001b[39m) \u001b[39mor\u001b[39;00m (symbol_type \u001b[39m<\u001b[39m \u001b[39m1\u001b[39m):\n\u001b[0;32m---> 13\u001b[0m \tsymbol_type \u001b[39m=\u001b[39m \u001b[39mint\u001b[39;49m(\u001b[39minput\u001b[39;49m(\u001b[39m'\u001b[39;49m\u001b[39mMonthly Heatmap (For Indices = 1, Equities = 2) > \u001b[39;49m\u001b[39m'\u001b[39;49m))\n\u001b[1;32m     14\u001b[0m sym \u001b[39m=\u001b[39m \u001b[39minput\u001b[39m(\u001b[39m'\u001b[39m\u001b[39mSymbol > \u001b[39m\u001b[39m'\u001b[39m)\n\u001b[1;32m     16\u001b[0m \u001b[39m## Get data and prepare for heatmap\u001b[39;00m\n",
      "\u001b[0;31mValueError\u001b[0m: invalid literal for int() with base 10: ''"
     ]
    }
   ],
   "source": [
    "## NIFTY Monthly Returns Heatmap\n",
    "## Inspired by Twitter.com/Uptickr & marketcalls_\n",
    "## My handle @truedata2\n",
    "\n",
    "import pandas as pd, seaborn as sns\n",
    "from nsepy import get_history\n",
    "from datetime import date\n",
    "import matplotlib.pyplot as plt\n",
    "\n",
    "## Which symbol do you want to see\n",
    "symbol_type = 0\n",
    "while (symbol_type > 2) or (symbol_type < 1):\n",
    "\tsymbol_type = int(input('Monthly Heatmap (For Indices = 1, Equities = 2) > '))\n",
    "sym = input('Symbol > ')\n",
    "\n",
    "## Get data and prepare for heatmap\n",
    "if symbol_type == 1:\n",
    "\tprices = get_history(symbol=sym, start=date(1999,12,1), end=date.today(), index=True)\n",
    "if symbol_type == 2:\n",
    "\tprices = get_history(symbol=sym, start=date(1999,12,1), end=date.today(), index=False, series='EQ')\n",
    "prices.index = pd.to_datetime(prices.index)\n",
    "prices = prices.resample('BMS', how='last')\n",
    "prices['Year']=prices.index.strftime('%Y')\n",
    "prices['Month']=prices.index.strftime('%m')\n",
    "prices['Close'] = prices['Close'].pct_change()*100\n",
    "prices = prices[1:].pivot('Month', 'Year', 'Close')\n",
    "\n",
    "## Build the plot\n",
    "fig, ax = plt.subplots()\n",
    "fig.set_size_inches(11.7, 8.27)\n",
    "ax = sns.heatmap(prices, ax=ax, annot=True, annot_kws={\"size\": 9}, fmt=\"0.2f\", cmap='RdYlGn', linewidths=0.5)\n",
    "\n",
    "## Save image and show plot\n",
    "sns.plt.title(sym) # adds symbol name as title\n",
    "fig.savefig('Monthly_Returns.png')\n",
    "plt.show()"
   ]
  }
 ],
 "metadata": {
  "kernelspec": {
   "display_name": "Python 3",
   "language": "python",
   "name": "python3"
  },
  "language_info": {
   "codemirror_mode": {
    "name": "ipython",
    "version": 3
   },
   "file_extension": ".py",
   "mimetype": "text/x-python",
   "name": "python",
   "nbconvert_exporter": "python",
   "pygments_lexer": "ipython3",
   "version": "3.10.6 (main, Aug 30 2022, 04:58:14) [Clang 13.1.6 (clang-1316.0.21.2.5)]"
  },
  "orig_nbformat": 4,
  "vscode": {
   "interpreter": {
    "hash": "aee8b7b246df8f9039afb4144a1f6fd8d2ca17a180786b69acc140d282b71a49"
   }
  }
 },
 "nbformat": 4,
 "nbformat_minor": 2
}
