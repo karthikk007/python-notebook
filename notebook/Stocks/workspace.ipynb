{
 "cells": [
  {
   "cell_type": "code",
   "execution_count": 3,
   "metadata": {},
   "outputs": [
    {
     "data": {
      "text/plain": [
       "['SYMBOLNAME OF COMPANY',\n",
       " '20MICRONS20 Microns Limited',\n",
       " '21STCENMGM21st Century Management Services Limited']"
      ]
     },
     "execution_count": 3,
     "metadata": {},
     "output_type": "execute_result"
    }
   ],
   "source": [
    "dd = {\n",
    "    \"SYMBOL\": \"NAME OF COMPANY\",\n",
    "    \"20MICRONS\": \"20 Microns Limited\",\n",
    "    \"21STCENMGM\": \"21st Century Management Services Limited\",\n",
    "}\n",
    "\n",
    "# dict.items()\n",
    "res = list(map(lambda item: item[0] + item[1], dd.items()))\n",
    "res"
   ]
  },
  {
   "cell_type": "code",
   "execution_count": 9,
   "metadata": {},
   "outputs": [
    {
     "name": "stdout",
     "output_type": "stream",
     "text": [
      "{'Buy Time': 'Fri'}\n",
      "{'Buy Time': 'Fri'}\n",
      "{'Buy Time': 'Mon'}\n",
      "{'Buy Time': 'Mon'}\n",
      "{'Buy Time': 'Tue'}\n",
      "{'Buy Time': 'Wed'}\n",
      "{'Fri': 2, 'Mon': 2, 'Tue': 1, 'Wed': 1}\n"
     ]
    }
   ],
   "source": [
    "from functools import reduce\n",
    "\n",
    "def counter_buy_time(output, item):\n",
    "    val = 1\n",
    "\n",
    "    print(item)\n",
    "\n",
    "    if item['Buy Time'] in output:\n",
    "        val = output[item['Buy Time']] + 1\n",
    "\n",
    "    output[item['Buy Time']] = val\n",
    "\n",
    "    return output\n",
    "\n",
    "\n",
    "def plot_bar():\n",
    "    # print(signal_data)\n",
    "    test = [\n",
    "        {'Buy Time': 'Fri'},\n",
    "        {'Buy Time': 'Fri'},\n",
    "        {'Buy Time': 'Mon'},\n",
    "        {'Buy Time': 'Mon'},\n",
    "        {'Buy Time': 'Tue'},\n",
    "        {'Buy Time': 'Wed'},\n",
    "    ]\n",
    "\n",
    "    output = reduce(lambda out, item: counter_buy_time(out, item), test, {})\n",
    "\n",
    "    print(output)\n",
    "\n",
    "plot_bar()"
   ]
  },
  {
   "cell_type": "code",
   "execution_count": 30,
   "metadata": {},
   "outputs": [],
   "source": [
    "dd = {\n",
    "    \"SYMBOL\": \"NAME OF COMPANY\",\n",
    "    \"20MICRONS\": \"20 Microns Limited\",\n",
    "    \"21STCENMGM\": \"21st Century Management Services Limited\",\n",
    "    \"kk\": \"21st Century Management Services Limited\",\n",
    "    \"a\": \"NAME OF COMPANY\",\n",
    "    \"b\": \"20 Microns Limited\",\n",
    "    \"c\": \"21st Century Management Services Limited\",\n",
    "    \"d\": \"21st Century Management Services Limited\",\n",
    "    'inner': {\n",
    "        \"SYMBOL\": \"NAME OF COMPANY\",\n",
    "        \"20MICRONS\": \"20 Microns Limited\",\n",
    "        \"21STCENMGM\": \"21st Century Management Services Limited\",\n",
    "        \"kk\": \"21st Century Management Services Limited\",\n",
    "        \"a\": \"NAME OF COMPANY\",\n",
    "        \"b\": \"20 Microns Limited\",\n",
    "        \"c\": \"21st Century Management Services Limited\",\n",
    "        \"d\": \"21st Century Management Services Limited\",\n",
    "        \"f\": \"NAME OF COMPANY\",\n",
    "        \"g\": \"20 Microns Limited\",\n",
    "        \"h\": \"21st Century Management Services Limited\",\n",
    "        \"i\": \"21st Century Management Services Limited\",\n",
    "    }\n",
    "}\n",
    "\n"
   ]
  },
  {
   "cell_type": "code",
   "execution_count": 38,
   "metadata": {},
   "outputs": [
    {
     "data": {
      "text/plain": [
       "749"
      ]
     },
     "execution_count": 38,
     "metadata": {},
     "output_type": "execute_result"
    }
   ],
   "source": [
    "import sys\n",
    "\n",
    "sys.getsizeof(dd['inner'])\n",
    "\n",
    "reduce(lambda out, item: out + sys.getsizeof(item), dd, 0)\n",
    "size = reduce(lambda out, item: out + sys.getsizeof(item), dd, 0)\n",
    "size += sys.getsizeof(dd)\n",
    "size"
   ]
  },
  {
   "cell_type": "code",
   "execution_count": 42,
   "metadata": {},
   "outputs": [
    {
     "data": {
      "text/plain": [
       "'Tue'"
      ]
     },
     "execution_count": 42,
     "metadata": {},
     "output_type": "execute_result"
    }
   ],
   "source": [
    "ex_dict = { 'Mon': 5, 'Tue': 10}\n",
    "\n",
    "max(ex_dict, key=ex_dict.get)"
   ]
  }
 ],
 "metadata": {
  "kernelspec": {
   "display_name": "Python 3",
   "language": "python",
   "name": "python3"
  },
  "language_info": {
   "codemirror_mode": {
    "name": "ipython",
    "version": 3
   },
   "file_extension": ".py",
   "mimetype": "text/x-python",
   "name": "python",
   "nbconvert_exporter": "python",
   "pygments_lexer": "ipython3",
   "version": "3.11.2"
  },
  "orig_nbformat": 4
 },
 "nbformat": 4,
 "nbformat_minor": 2
}
