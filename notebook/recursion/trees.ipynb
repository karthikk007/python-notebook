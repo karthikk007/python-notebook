{
 "cells": [
  {
   "cell_type": "code",
   "execution_count": 25,
   "metadata": {},
   "outputs": [],
   "source": [
    "class Expression():\n",
    "    pass"
   ]
  },
  {
   "cell_type": "code",
   "execution_count": 26,
   "metadata": {},
   "outputs": [],
   "source": [
    "class Times(Expression):\n",
    "    \n",
    "    def __init__(self, l, r) -> None:\n",
    "        super().__init__()\n",
    "\n",
    "        self.l = l\n",
    "        self.r = r\n",
    "\n",
    "    def __str__(self) -> str:\n",
    "        return \"(\" + str(self.l) + \"*\" + str(self.r) + \")\"\n",
    "\n",
    "    def eval(self, env):\n",
    "        return self.l.eval(env) * self.r.eval(env)"
   ]
  },
  {
   "cell_type": "code",
   "execution_count": 27,
   "metadata": {},
   "outputs": [],
   "source": [
    "class Plus(Expression):\n",
    "\n",
    "    def __init__(self, l, r) -> None:\n",
    "        super().__init__()\n",
    "\n",
    "        self.l = l\n",
    "        self.r = r\n",
    "\n",
    "    def __str__(self) -> str:\n",
    "        return \"(\" + str(self.l) + \"+\" + str(self.r) + \")\"\n",
    "\n",
    "    def eval(self, env):\n",
    "        return self.l.eval(env) + self.r.eval(env)"
   ]
  },
  {
   "cell_type": "code",
   "execution_count": 28,
   "metadata": {},
   "outputs": [],
   "source": [
    "class Const(Expression):\n",
    "\n",
    "    def __init__(self, val) -> None:\n",
    "        super().__init__()\n",
    "\n",
    "        self.val = val\n",
    "\n",
    "    def __str__(self) -> str:\n",
    "        return str(self.val)\n",
    "\n",
    "    def eval(self, env):\n",
    "        return self.val"
   ]
  },
  {
   "cell_type": "code",
   "execution_count": 29,
   "metadata": {},
   "outputs": [],
   "source": [
    "class Var(Expression):\n",
    "\n",
    "    def __init__(self, name) -> None:\n",
    "        super().__init__()\n",
    "\n",
    "        self.name = name\n",
    "\n",
    "    def __str__(self) -> str:\n",
    "        return self.name\n",
    "\n",
    "    def eval(self, env):\n",
    "        return env[self.name]"
   ]
  },
  {
   "cell_type": "code",
   "execution_count": 30,
   "metadata": {},
   "outputs": [
    {
     "name": "stdout",
     "output_type": "stream",
     "text": [
      "(3*(y+x))\n"
     ]
    }
   ],
   "source": [
    "e1 = Times(Const(3), Plus(Var(\"y\"), Var(\"x\")))\n",
    "\n",
    "print(e1)"
   ]
  },
  {
   "cell_type": "code",
   "execution_count": 31,
   "metadata": {},
   "outputs": [
    {
     "name": "stdout",
     "output_type": "stream",
     "text": [
      "((3*y)+x)\n"
     ]
    }
   ],
   "source": [
    "e2 = Plus(Times(Const(3), Var(\"y\")), Var(\"x\"))\n",
    "\n",
    "print(e2)"
   ]
  },
  {
   "cell_type": "code",
   "execution_count": 32,
   "metadata": {},
   "outputs": [
    {
     "data": {
      "text/plain": [
       "2"
      ]
     },
     "execution_count": 32,
     "metadata": {},
     "output_type": "execute_result"
    }
   ],
   "source": [
    "env = { \"x\": 2, \"y\": 4}\n",
    "\n",
    "env[\"x\"]"
   ]
  },
  {
   "cell_type": "code",
   "execution_count": 33,
   "metadata": {},
   "outputs": [
    {
     "data": {
      "text/plain": [
       "18"
      ]
     },
     "execution_count": 33,
     "metadata": {},
     "output_type": "execute_result"
    }
   ],
   "source": [
    "e1.eval(env)"
   ]
  },
  {
   "cell_type": "code",
   "execution_count": 34,
   "metadata": {},
   "outputs": [
    {
     "data": {
      "text/plain": [
       "14"
      ]
     },
     "execution_count": 34,
     "metadata": {},
     "output_type": "execute_result"
    }
   ],
   "source": [
    "e2.eval(env)"
   ]
  }
 ],
 "metadata": {
  "kernelspec": {
   "display_name": "Python 3.10.6 64-bit",
   "language": "python",
   "name": "python3"
  },
  "language_info": {
   "codemirror_mode": {
    "name": "ipython",
    "version": 3
   },
   "file_extension": ".py",
   "mimetype": "text/x-python",
   "name": "python",
   "nbconvert_exporter": "python",
   "pygments_lexer": "ipython3",
   "version": "3.10.6"
  },
  "orig_nbformat": 4,
  "vscode": {
   "interpreter": {
    "hash": "aee8b7b246df8f9039afb4144a1f6fd8d2ca17a180786b69acc140d282b71a49"
   }
  }
 },
 "nbformat": 4,
 "nbformat_minor": 2
}
