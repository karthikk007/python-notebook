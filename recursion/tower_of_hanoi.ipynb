{
 "cells": [
  {
   "cell_type": "code",
   "execution_count": 1,
   "metadata": {},
   "outputs": [],
   "source": [
    "def move(f, t):\n",
    "    print(\"Move disc from {} to {}\".format(f, t))"
   ]
  },
  {
   "cell_type": "code",
   "execution_count": 2,
   "metadata": {},
   "outputs": [
    {
     "name": "stdout",
     "output_type": "stream",
     "text": [
      "Move disc from A to C\n"
     ]
    }
   ],
   "source": [
    "move(\"A\", \"C\")"
   ]
  },
  {
   "cell_type": "code",
   "execution_count": 3,
   "metadata": {},
   "outputs": [],
   "source": [
    "def move_via(f, v, t):\n",
    "    move(f, v)\n",
    "    move(v, t)"
   ]
  },
  {
   "cell_type": "code",
   "execution_count": 4,
   "metadata": {},
   "outputs": [
    {
     "name": "stdout",
     "output_type": "stream",
     "text": [
      "Move disc from A to B\n",
      "Move disc from B to C\n"
     ]
    }
   ],
   "source": [
    "move_via(\"A\", \"B\", \"C\")"
   ]
  },
  {
   "cell_type": "code",
   "execution_count": 11,
   "metadata": {},
   "outputs": [],
   "source": [
    "def hanoi(n, f, h, t):\n",
    "    if n == 0:\n",
    "        pass\n",
    "    else:\n",
    "        hanoi(n-1, f, t, h)\n",
    "        move(f, t)\n",
    "        hanoi(n-1, h, f, t)"
   ]
  },
  {
   "cell_type": "code",
   "execution_count": 16,
   "metadata": {},
   "outputs": [
    {
     "name": "stdout",
     "output_type": "stream",
     "text": [
      "Move disc from A to B\n",
      "Move disc from A to C\n",
      "Move disc from B to C\n",
      "Move disc from A to B\n",
      "Move disc from C to A\n",
      "Move disc from C to B\n",
      "Move disc from A to B\n",
      "Move disc from A to C\n",
      "Move disc from B to C\n",
      "Move disc from B to A\n",
      "Move disc from C to A\n",
      "Move disc from B to C\n",
      "Move disc from A to B\n",
      "Move disc from A to C\n",
      "Move disc from B to C\n"
     ]
    }
   ],
   "source": [
    "hanoi(4, \"A\", \"B\", \"C\")"
   ]
  }
 ],
 "metadata": {
  "kernelspec": {
   "display_name": "Python 3.10.6 64-bit",
   "language": "python",
   "name": "python3"
  },
  "language_info": {
   "codemirror_mode": {
    "name": "ipython",
    "version": 3
   },
   "file_extension": ".py",
   "mimetype": "text/x-python",
   "name": "python",
   "nbconvert_exporter": "python",
   "pygments_lexer": "ipython3",
   "version": "3.10.6"
  },
  "orig_nbformat": 4,
  "vscode": {
   "interpreter": {
    "hash": "aee8b7b246df8f9039afb4144a1f6fd8d2ca17a180786b69acc140d282b71a49"
   }
  }
 },
 "nbformat": 4,
 "nbformat_minor": 2
}
